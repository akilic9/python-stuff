{
 "cells": [
  {
   "cell_type": "code",
   "execution_count": 1,
   "metadata": {},
   "outputs": [
    {
     "name": "stdin",
     "output_type": "stream",
     "text": [
      "Please enter a number: 1551\n"
     ]
    },
    {
     "name": "stdout",
     "output_type": "stream",
     "text": [
      "The number is a palindrome.\n"
     ]
    }
   ],
   "source": [
    "aNumber = int (input (\"Please enter a number:\") )\n",
    "hold = aNumber\n",
    "reverse = 0\n",
    "while (aNumber > 0):\n",
    "    remainder = aNumber % 10\n",
    "    reverse = reverse * 10 + remainder\n",
    "    aNumber = aNumber // 10\n",
    "if (hold == reverse):\n",
    "    print (\"The number is a palindrome.\")\n",
    "else:\n",
    "    print (\"The number is not a palindrome.\")"
   ]
  }
 ],
 "metadata": {
  "kernelspec": {
   "display_name": "Python 3",
   "language": "python",
   "name": "python3"
  },
  "language_info": {
   "codemirror_mode": {
    "name": "ipython",
    "version": 3
   },
   "file_extension": ".py",
   "mimetype": "text/x-python",
   "name": "python",
   "nbconvert_exporter": "python",
   "pygments_lexer": "ipython3",
   "version": "3.7.6"
  }
 },
 "nbformat": 4,
 "nbformat_minor": 4
}
